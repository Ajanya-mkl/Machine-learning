{
 "cells": [
  {
   "cell_type": "markdown",
   "id": "9464a71f",
   "metadata": {},
   "source": [
    "# NumPy "
   ]
  },
  {
   "cell_type": "markdown",
   "id": "b6230d29",
   "metadata": {},
   "source": [
    "### Numerical python"
   ]
  },
  {
   "cell_type": "markdown",
   "id": "37a0df68",
   "metadata": {},
   "source": [
    "Array processing package.\n",
    "support large multi-dimension arrays and matrices\n",
    "NumPy is a powerful library in Python used for numerical computing. It provides support for arrays, matrices, and many mathematical functions that operate on these data structures."
   ]
  },
  {
   "cell_type": "markdown",
   "id": "2789b9d8",
   "metadata": {},
   "source": [
    "Array : Data structure ,that stores same datatype values."
   ]
  },
  {
   "cell_type": "code",
   "execution_count": 6,
   "id": "2efb085a",
   "metadata": {},
   "outputs": [],
   "source": [
    "list1=[1,2,'h']\n"
   ]
  },
  {
   "cell_type": "code",
   "execution_count": 1,
   "id": "75e8e59f",
   "metadata": {},
   "outputs": [],
   "source": [
    "#installing numpy liabrary\n",
    "import numpy as np"
   ]
  },
  {
   "cell_type": "code",
   "execution_count": 9,
   "id": "0f92d395",
   "metadata": {},
   "outputs": [],
   "source": [
    "#converting a list in to array\n",
    "list2=[1,2,3,4]\n",
    "arr1=np.array(list2)"
   ]
  },
  {
   "cell_type": "code",
   "execution_count": 12,
   "id": "5ae49fa5",
   "metadata": {},
   "outputs": [
    {
     "name": "stdout",
     "output_type": "stream",
     "text": [
      "[1, 2, 3, 4]\n"
     ]
    },
    {
     "data": {
      "text/plain": [
       "array([1, 2, 3, 4])"
      ]
     },
     "execution_count": 12,
     "metadata": {},
     "output_type": "execute_result"
    }
   ],
   "source": [
    "print(list2)\n",
    "arr1"
   ]
  },
  {
   "cell_type": "markdown",
   "id": "95344a4d",
   "metadata": {},
   "source": [
    "# Creating Arrays"
   ]
  },
  {
   "cell_type": "code",
   "execution_count": 13,
   "id": "dd123491",
   "metadata": {},
   "outputs": [
    {
     "data": {
      "text/plain": [
       "array([1, 2, 3, 4, 5])"
      ]
     },
     "execution_count": 13,
     "metadata": {},
     "output_type": "execute_result"
    }
   ],
   "source": [
    "arr = np.array([1, 2, 3, 4, 5])\n",
    "arr"
   ]
  },
  {
   "cell_type": "code",
   "execution_count": 4,
   "id": "d119cb22",
   "metadata": {},
   "outputs": [
    {
     "data": {
      "text/plain": [
       "array([[1, 2, 3],\n",
       "       [4, 5, 6]])"
      ]
     },
     "execution_count": 4,
     "metadata": {},
     "output_type": "execute_result"
    }
   ],
   "source": [
    "arr_2d = np.array([[1, 2, 3], [4, 5, 6]])\n",
    "arr_2d "
   ]
  },
  {
   "cell_type": "code",
   "execution_count": 5,
   "id": "50c8646a",
   "metadata": {},
   "outputs": [
    {
     "data": {
      "text/plain": [
       "array([[[1, 2],\n",
       "        [3, 4]],\n",
       "\n",
       "       [[5, 6],\n",
       "        [7, 8]]])"
      ]
     },
     "execution_count": 5,
     "metadata": {},
     "output_type": "execute_result"
    }
   ],
   "source": [
    "arr_3d = np.array([[[1, 2], [3, 4]], [[5, 6], [7, 8]]])\n",
    "arr_3d"
   ]
  },
  {
   "cell_type": "markdown",
   "id": "7dd563dc",
   "metadata": {},
   "source": [
    "## Array Attributes"
   ]
  },
  {
   "cell_type": "code",
   "execution_count": 14,
   "id": "160e37ba",
   "metadata": {},
   "outputs": [
    {
     "data": {
      "text/plain": [
       "1"
      ]
     },
     "execution_count": 14,
     "metadata": {},
     "output_type": "execute_result"
    }
   ],
   "source": [
    "arr2.ndim"
   ]
  },
  {
   "cell_type": "code",
   "execution_count": 17,
   "id": "24290075",
   "metadata": {},
   "outputs": [
    {
     "data": {
      "text/plain": [
       "array(4)"
      ]
     },
     "execution_count": 17,
     "metadata": {},
     "output_type": "execute_result"
    }
   ],
   "source": [
    "arr3=np.array(4)\n",
    "arr3.ndim # to get dimension of array\n",
    "arr3"
   ]
  },
  {
   "cell_type": "code",
   "execution_count": 21,
   "id": "1cd52b47",
   "metadata": {},
   "outputs": [
    {
     "data": {
      "text/plain": [
       "(5,)"
      ]
     },
     "execution_count": 21,
     "metadata": {},
     "output_type": "execute_result"
    }
   ],
   "source": [
    "arr2.size # Total number of elements.\n",
    "arr2.itemsize # size of the element of the array in bytes\n",
    "arr2.dtype # Type of elements in the array.\n",
    "arr2.shape # Returns a tuple of dimensions."
   ]
  },
  {
   "cell_type": "code",
   "execution_count": 24,
   "id": "78926be7",
   "metadata": {},
   "outputs": [
    {
     "name": "stdout",
     "output_type": "stream",
     "text": [
      "[[1 2 3]\n",
      " [1 2 3]]\n"
     ]
    },
    {
     "data": {
      "text/plain": [
       "(2, 3)"
      ]
     },
     "execution_count": 24,
     "metadata": {},
     "output_type": "execute_result"
    }
   ],
   "source": [
    "arr4=np.array([[1,2,3],[1,2,3]])\n",
    "print(arr4)\n",
    "arr4.shape"
   ]
  },
  {
   "cell_type": "code",
   "execution_count": 25,
   "id": "cedd471f",
   "metadata": {},
   "outputs": [
    {
     "data": {
      "text/plain": [
       "array([1, 2, 3, 4])"
      ]
     },
     "execution_count": 25,
     "metadata": {},
     "output_type": "execute_result"
    }
   ],
   "source": [
    "arr1"
   ]
  },
  {
   "cell_type": "markdown",
   "id": "0421dca2",
   "metadata": {},
   "source": [
    "## Slicing and Indexing"
   ]
  },
  {
   "cell_type": "code",
   "execution_count": 27,
   "id": "fc0fa4d7",
   "metadata": {},
   "outputs": [
    {
     "data": {
      "text/plain": [
       "array([1, 2, 3, 4])"
      ]
     },
     "execution_count": 27,
     "metadata": {},
     "output_type": "execute_result"
    }
   ],
   "source": [
    "arr1[0:]"
   ]
  },
  {
   "cell_type": "code",
   "execution_count": 28,
   "id": "21f2e4f5",
   "metadata": {},
   "outputs": [],
   "source": [
    "arr1[0]=20 #to change the value"
   ]
  },
  {
   "cell_type": "code",
   "execution_count": 4,
   "id": "e9178cba",
   "metadata": {},
   "outputs": [],
   "source": [
    "arr1 =np.array([1,2,4,5])"
   ]
  },
  {
   "cell_type": "code",
   "execution_count": 10,
   "id": "dc4381ed",
   "metadata": {},
   "outputs": [
    {
     "name": "stdout",
     "output_type": "stream",
     "text": [
      "[[1 2 3]\n",
      " [4 5 6]]\n"
     ]
    },
    {
     "data": {
      "text/plain": [
       "array([5, 6])"
      ]
     },
     "execution_count": 10,
     "metadata": {},
     "output_type": "execute_result"
    }
   ],
   "source": [
    "arr_2d=np.array([[1, 2, 3],\n",
    "       [4, 5, 6]])\n",
    "print(arr_2d)\n",
    "arr_2d[1,1:] \n"
   ]
  },
  {
   "cell_type": "markdown",
   "id": "18e67d7e",
   "metadata": {},
   "source": [
    "## Array Initialization"
   ]
  },
  {
   "cell_type": "code",
   "execution_count": 20,
   "id": "e4ccbc4d",
   "metadata": {},
   "outputs": [
    {
     "data": {
      "text/plain": [
       "array([1, 2, 3, 4, 5, 6, 7, 8, 9])"
      ]
     },
     "execution_count": 20,
     "metadata": {},
     "output_type": "execute_result"
    }
   ],
   "source": [
    "#Arange\n",
    "#new_arr=np.arange(strt,end,step)\n",
    "new_arr=np.arange(1,10)\n",
    "new_arr"
   ]
  },
  {
   "cell_type": "code",
   "execution_count": 18,
   "id": "b997bf16",
   "metadata": {},
   "outputs": [
    {
     "data": {
      "text/plain": [
       "array([1.        , 1.66666667, 2.33333333, 3.        , 3.66666667,\n",
       "       4.33333333, 5.        ])"
      ]
     },
     "execution_count": 18,
     "metadata": {},
     "output_type": "execute_result"
    }
   ],
   "source": [
    "#linspace\n",
    "#arr2=np.linspace(start,stop,cound)\n",
    "arr2=np.linspace(1,5,7)\n",
    "arr2"
   ]
  },
  {
   "cell_type": "code",
   "execution_count": 35,
   "id": "49c94070",
   "metadata": {},
   "outputs": [
    {
     "data": {
      "text/plain": [
       "array([2, 9, 3, 5, 7, 7])"
      ]
     },
     "execution_count": 35,
     "metadata": {},
     "output_type": "execute_result"
    }
   ],
   "source": [
    "#random.randint\n",
    "arr2=np.random.randint(1,10,6)\n",
    "arr2"
   ]
  },
  {
   "cell_type": "code",
   "execution_count": null,
   "id": "a876c296",
   "metadata": {},
   "outputs": [],
   "source": [
    "0d=scalar ;[1]\n",
    "1d=vector ;[1,2,3]\n",
    "2d array =matrix ;[1,2\n",
    "                    3,4]\n",
    "3d=tenses=[[1,2\n",
    "            3,4],\n",
    "           [1,2\n",
    "            3,4]]"
   ]
  },
  {
   "cell_type": "code",
   "execution_count": 11,
   "id": "09d58390",
   "metadata": {},
   "outputs": [
    {
     "data": {
      "text/plain": [
       "array([[0., 0., 0.],\n",
       "       [0., 0., 0.]])"
      ]
     },
     "execution_count": 11,
     "metadata": {},
     "output_type": "execute_result"
    }
   ],
   "source": [
    "np.zeros((2, 3))  # 2x3 matrix of zeros"
   ]
  },
  {
   "cell_type": "code",
   "execution_count": 9,
   "id": "79395295",
   "metadata": {},
   "outputs": [
    {
     "data": {
      "text/plain": [
       "array([[1., 1., 1.],\n",
       "       [1., 1., 1.]])"
      ]
     },
     "execution_count": 9,
     "metadata": {},
     "output_type": "execute_result"
    }
   ],
   "source": [
    "np.ones((2, 3))  # 2x3 matrix of ones\n"
   ]
  },
  {
   "cell_type": "code",
   "execution_count": 10,
   "id": "ad682e08",
   "metadata": {},
   "outputs": [
    {
     "data": {
      "text/plain": [
       "array([[1., 0., 0.],\n",
       "       [0., 1., 0.],\n",
       "       [0., 0., 1.]])"
      ]
     },
     "execution_count": 10,
     "metadata": {},
     "output_type": "execute_result"
    }
   ],
   "source": [
    "np.eye(3)  # 3x3 Identity matrix 1x1,2x2\n"
   ]
  },
  {
   "cell_type": "markdown",
   "id": "51c3722c",
   "metadata": {},
   "source": [
    "## Reshaping and Resizing"
   ]
  },
  {
   "cell_type": "code",
   "execution_count": 20,
   "id": "f8b1aa0e",
   "metadata": {},
   "outputs": [],
   "source": [
    "arr=np.array([1, 2, 3, 4, 5,6])"
   ]
  },
  {
   "cell_type": "code",
   "execution_count": 21,
   "id": "1e1f1821",
   "metadata": {},
   "outputs": [
    {
     "data": {
      "text/plain": [
       "array([[1, 2, 3],\n",
       "       [4, 5, 6]])"
      ]
     },
     "execution_count": 21,
     "metadata": {},
     "output_type": "execute_result"
    }
   ],
   "source": [
    "arr_reshaped = arr.reshape(2,3)  # Reshape \n",
    "arr_reshaped"
   ]
  },
  {
   "cell_type": "code",
   "execution_count": 26,
   "id": "cc00707d",
   "metadata": {},
   "outputs": [
    {
     "data": {
      "text/plain": [
       "array([1, 2, 3, 4, 5, 6])"
      ]
     },
     "execution_count": 26,
     "metadata": {},
     "output_type": "execute_result"
    }
   ],
   "source": [
    "arr_flat =arr_reshaped .flatten()  # Flatten 2D array to 1D\n",
    "arr_flat"
   ]
  },
  {
   "cell_type": "markdown",
   "id": "0e1bda6c",
   "metadata": {},
   "source": [
    "## Array Operations"
   ]
  },
  {
   "cell_type": "code",
   "execution_count": 27,
   "id": "6467ab49",
   "metadata": {},
   "outputs": [
    {
     "data": {
      "text/plain": [
       "array([1, 2, 3, 4, 5, 6])"
      ]
     },
     "execution_count": 27,
     "metadata": {},
     "output_type": "execute_result"
    }
   ],
   "source": [
    "arr"
   ]
  },
  {
   "cell_type": "code",
   "execution_count": 28,
   "id": "892c101c",
   "metadata": {},
   "outputs": [
    {
     "data": {
      "text/plain": [
       "array([11, 12, 13, 14, 15, 16])"
      ]
     },
     "execution_count": 28,
     "metadata": {},
     "output_type": "execute_result"
    }
   ],
   "source": [
    "arr+10\n"
   ]
  },
  {
   "cell_type": "code",
   "execution_count": 29,
   "id": "0561a694",
   "metadata": {},
   "outputs": [
    {
     "data": {
      "text/plain": [
       "array([10, 20, 30, 40, 50, 60])"
      ]
     },
     "execution_count": 29,
     "metadata": {},
     "output_type": "execute_result"
    }
   ],
   "source": [
    "arr * 10\n"
   ]
  },
  {
   "cell_type": "code",
   "execution_count": 32,
   "id": "17742949",
   "metadata": {},
   "outputs": [
    {
     "name": "stdout",
     "output_type": "stream",
     "text": [
      "[[7 5]\n",
      " [3 2]]\n",
      "[[1 1]\n",
      " [7 7]]\n"
     ]
    },
    {
     "data": {
      "text/plain": [
       "array([[42, 42],\n",
       "       [17, 17]])"
      ]
     },
     "execution_count": 32,
     "metadata": {},
     "output_type": "execute_result"
    }
   ],
   "source": [
    "arr1=np.random.randint(1,10,(2,2))\n",
    "arr2=np.random.randint(1,10,(2,2))\n",
    "print(arr1)\n",
    "print(arr2)\n",
    "np.dot(arr1,arr2)"
   ]
  },
  {
   "cell_type": "markdown",
   "id": "e4125569",
   "metadata": {},
   "source": [
    "## vstack (Vertical Stack)"
   ]
  },
  {
   "cell_type": "markdown",
   "id": "41515deb",
   "metadata": {},
   "source": [
    "vstack is used to stack arrays vertically, row-wise."
   ]
  },
  {
   "cell_type": "code",
   "execution_count": 34,
   "id": "9ae00266",
   "metadata": {},
   "outputs": [
    {
     "data": {
      "text/plain": [
       "array([[1, 2, 3],\n",
       "       [4, 5, 6]])"
      ]
     },
     "execution_count": 34,
     "metadata": {},
     "output_type": "execute_result"
    }
   ],
   "source": [
    "arr1 = np.array([1, 2, 3])\n",
    "arr2 = np.array([4, 5, 6])\n",
    "\n",
    "result = np.vstack((arr1, arr2))\n",
    "result"
   ]
  },
  {
   "cell_type": "markdown",
   "id": "1ff0cc76",
   "metadata": {},
   "source": [
    "## Horizontal Stack"
   ]
  },
  {
   "cell_type": "markdown",
   "id": "2070fabe",
   "metadata": {},
   "source": [
    "hstack (Horizontal Stack)\n",
    "hstack is used to stack arrays horizontally, column-wise. "
   ]
  },
  {
   "cell_type": "code",
   "execution_count": 33,
   "id": "c02de071",
   "metadata": {},
   "outputs": [
    {
     "data": {
      "text/plain": [
       "array([[7, 5, 1, 1],\n",
       "       [3, 2, 7, 7]])"
      ]
     },
     "execution_count": 33,
     "metadata": {},
     "output_type": "execute_result"
    }
   ],
   "source": [
    "result = np.hstack((arr1, arr2))\n",
    "result"
   ]
  },
  {
   "cell_type": "markdown",
   "id": "f8f25e31",
   "metadata": {},
   "source": [
    "## dstack"
   ]
  },
  {
   "cell_type": "markdown",
   "id": "041e69ce",
   "metadata": {},
   "source": [
    "\n",
    "dstack is used to stack arrays in sequence along the third axis (depth-wise). It is especially useful when you want to combine multiple 2D arrays into a 3D array by stacking them along a new third dimension."
   ]
  },
  {
   "cell_type": "code",
   "execution_count": 35,
   "id": "af479c8b",
   "metadata": {},
   "outputs": [
    {
     "data": {
      "text/plain": [
       "array([[[1, 4],\n",
       "        [2, 5],\n",
       "        [3, 6]]])"
      ]
     },
     "execution_count": 35,
     "metadata": {},
     "output_type": "execute_result"
    }
   ],
   "source": [
    "result = np.dstack((arr1, arr2))\n",
    "result"
   ]
  },
  {
   "cell_type": "code",
   "execution_count": null,
   "id": "49d1c9c9",
   "metadata": {},
   "outputs": [],
   "source": []
  }
 ],
 "metadata": {
  "kernelspec": {
   "display_name": "Python 3 (ipykernel)",
   "language": "python",
   "name": "python3"
  },
  "language_info": {
   "codemirror_mode": {
    "name": "ipython",
    "version": 3
   },
   "file_extension": ".py",
   "mimetype": "text/x-python",
   "name": "python",
   "nbconvert_exporter": "python",
   "pygments_lexer": "ipython3",
   "version": "3.9.13"
  }
 },
 "nbformat": 4,
 "nbformat_minor": 5
}
