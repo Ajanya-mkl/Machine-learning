{
 "cells": [
  {
   "cell_type": "markdown",
   "id": "a3442602",
   "metadata": {},
   "source": [
    "# Z-Score Outlier Detection"
   ]
  },
  {
   "cell_type": "code",
   "execution_count": 2,
   "id": "f103faea",
   "metadata": {},
   "outputs": [],
   "source": [
    "import numpy as np\n",
    "import matplotlib.pyplot as plt\n",
    "from scipy import stats\n",
    "import seaborn as sns"
   ]
  },
  {
   "cell_type": "code",
   "execution_count": 25,
   "id": "69fcceb5",
   "metadata": {},
   "outputs": [],
   "source": [
    "data = [10, 12, 12, 13, 12, 14, 15, 16, 20, 150,12,34,140,12,11,14,10,15,16,17,18,19,20,24,12,15,10] "
   ]
  },
  {
   "cell_type": "code",
   "execution_count": 34,
   "id": "74185e01",
   "metadata": {},
   "outputs": [
    {
     "name": "stdout",
     "output_type": "stream",
     "text": [
      "Z-Scores: [0.43448424 0.37626551 0.37626551 0.34715614 0.37626551 0.31804678\n",
      " 0.28893741 0.25982804 0.14339058 3.64082699 0.37626551 0.26414054\n",
      " 3.34973333 0.37626551 0.40537487 0.31804678 0.43448424 0.28893741\n",
      " 0.25982804 0.23071868 0.20160931 0.17249995 0.14339058 0.02695312\n",
      " 0.37626551 0.28893741 0.43448424]\n",
      "outliers indices (array([ 9, 12], dtype=int64),)\n"
     ]
    },
    {
     "data": {
      "text/plain": [
       "(150, 140)"
      ]
     },
     "execution_count": 34,
     "metadata": {},
     "output_type": "execute_result"
    }
   ],
   "source": [
    "# Calculate Z-scores\n",
    "zscore=stats.zscore(data)\n",
    "\n",
    "z_scores = np.abs(zscore)\n",
    "\n",
    "# Define threshold for outliers\n",
    "threshold = 3\n",
    "\n",
    "# Identify outliers\n",
    "outliers = np.where(z_scores > threshold)\n",
    "\n",
    "print(\"Z-Scores:\", z_scores)\n",
    "print(\"outliers indices\",outliers)\n",
    "data[9],data[12]"
   ]
  },
  {
   "cell_type": "code",
   "execution_count": 35,
   "id": "ca91c948",
   "metadata": {},
   "outputs": [
    {
     "name": "stdout",
     "output_type": "stream",
     "text": [
      "Outliers detected using z-score: [150, 140]\n"
     ]
    }
   ],
   "source": [
    "def detect_outliers(sample_data):\n",
    "    outliers = []\n",
    "    threshold = 3  # Define threshold as 3 standard deviations\n",
    "\n",
    "    mean = np.mean(sample_data)\n",
    "    std_dev = np.std(sample_data)\n",
    "\n",
    "    for i in data:\n",
    "        z_score = (i - mean) / std_dev\n",
    "        if np.abs(z_score) > threshold:\n",
    "            outliers.append(i)\n",
    "\n",
    "    return outliers\n",
    "\n",
    "\n",
    "\n",
    "outliers = detect_outliers(data)\n",
    "print(\"Outliers detected using z-score:\", outliers)\n"
   ]
  },
  {
   "cell_type": "markdown",
   "id": "54c209cb",
   "metadata": {},
   "source": [
    "# Interquartile Range (IQR) Outlier Detection"
   ]
  },
  {
   "cell_type": "code",
   "execution_count": 37,
   "id": "1b172e53",
   "metadata": {},
   "outputs": [],
   "source": [
    "\n",
    "def detect_outliers_iqr(sample_data):\n",
    "    # Step 1: Sort the data\n",
    "    sorted_data = sorted(sample_data)\n",
    "\n",
    "    # Step 2: Calculate Q1 and Q3\n",
    "    q1, q3 = np.percentile(sorted_data, [25, 75])\n",
    "    iqr = q3 - q1\n",
    "\n",
    "    # Step 3: Calculate lower and upper fences\n",
    "    lower_fence = q1 - 1.5 * iqr\n",
    "    upper_fence = q3 + 1.5 * iqr\n",
    "\n",
    "    # Step 4: Identify outliers\n",
    "    outliers = [i for i in sorted_data if i < lower_fence or i > upper_fence]\n",
    "\n",
    "    return outliers, lower_fence, upper_fence\n",
    "\n"
   ]
  },
  {
   "cell_type": "code",
   "execution_count": 38,
   "id": "eacf4714",
   "metadata": {},
   "outputs": [
    {
     "name": "stdout",
     "output_type": "stream",
     "text": [
      "Outliers detected using IQR: [34, 140, 150]\n",
      "Lower fence: 2.25\n",
      "Upper fence: 28.25\n"
     ]
    }
   ],
   "source": [
    "outliers, lower_fence, upper_fence = detect_outliers_iqr(data)\n",
    "print(\"Outliers detected using IQR:\", outliers)\n",
    "print(\"Lower fence:\", lower_fence)\n",
    "print(\"Upper fence:\", upper_fence)"
   ]
  },
  {
   "cell_type": "code",
   "execution_count": 39,
   "id": "50595914",
   "metadata": {},
   "outputs": [
    {
     "data": {
      "text/plain": [
       "True"
      ]
     },
     "execution_count": 39,
     "metadata": {},
     "output_type": "execute_result"
    }
   ],
   "source": [
    "2!=6"
   ]
  },
  {
   "cell_type": "code",
   "execution_count": 20,
   "id": "a25be40e",
   "metadata": {},
   "outputs": [
    {
     "data": {
      "image/png": "[encoded data removed]",
      "text/plain": [
       "<Figure size 640x480 with 1 Axes>"
      ]
     },
     "metadata": {},
     "output_type": "display_data"
    }
   ],
   "source": [
    "# Plotting the data with a box plot\n",
    "# sns.boxplot(x=data)\n",
    "# plt.title('Box Plot of Data')\n",
    "# plt.show()"
   ]
  },
  {
   "cell_type": "code",
   "execution_count": null,
   "id": "3d0f81ff",
   "metadata": {},
   "outputs": [],
   "source": [
    "y\n",
    "|\n",
    "|        *       \n",
    "|      *   *     \n",
    "|    *       *   \n",
    "|  *           *\n",
    "|*-------------- x\n",
    " "
   ]
  }
 ],
 "metadata": {
  "kernelspec": {
   "display_name": "Python 3 (ipykernel)",
   "language": "python",
   "name": "python3"
  },
  "language_info": {
   "codemirror_mode": {
    "name": "ipython",
    "version": 3
   },
   "file_extension": ".py",
   "mimetype": "text/x-python",
   "name": "python",
   "nbconvert_exporter": "python",
   "pygments_lexer": "ipython3",
   "version": "3.9.13"
  }
 },
 "nbformat": 4,
 "nbformat_minor": 5
}
