{
 "cells": [
  {
   "cell_type": "markdown",
   "id": "efec18c4",
   "metadata": {},
   "source": [
    "1. Using joblib:"
   ]
  },
  {
   "cell_type": "markdown",
   "id": "12ec200b",
   "metadata": {},
   "source": [
    "\n",
    "joblib is optimized for saving large NumPy arrays and models, making it faster and more efficient for machine learning objects."
   ]
  },
  {
   "cell_type": "code",
   "execution_count": 20,
   "id": "f948247a",
   "metadata": {},
   "outputs": [],
   "source": [
    "import pandas as pd\n",
    "from sklearn.linear_model import LinearRegression\n",
    "import joblib\n",
    "import warnings"
   ]
  },
  {
   "cell_type": "code",
   "execution_count": 28,
   "id": "f2bbb82b",
   "metadata": {},
   "outputs": [],
   "source": [
    "warnings.filterwarnings(\"ignore\",message=\"X does not have valid feature names, but LinearRegression was fitted with feature names\") #for warnings"
   ]
  },
  {
   "cell_type": "code",
   "execution_count": 21,
   "id": "734f1b6c",
   "metadata": {},
   "outputs": [],
   "source": [
    "data=pd.read_csv(\"homeprices.csv\")\n",
    "x=data.drop(\"price\",axis=1)\n",
    "y=data[\"price\"]\n",
    "model=LinearRegression() #creating obcjt\n",
    "model.fit(x,y) # model training\n",
    "model.predict([[4500]])"
   ]
  },
  {
   "cell_type": "code",
   "execution_count": 22,
   "id": "f43e56c3",
   "metadata": {},
   "outputs": [
    {
     "data": {
      "text/plain": [
       "['model_joblib.pkl']"
      ]
     },
     "execution_count": 22,
     "metadata": {},
     "output_type": "execute_result"
    }
   ],
   "source": [
    "# Saving the model to a file\n",
    "joblib.dump(model, 'model_joblib.pkl')"
   ]
  },
  {
   "cell_type": "code",
   "execution_count": 23,
   "id": "3951e222",
   "metadata": {},
   "outputs": [],
   "source": [
    "# Loading the model from the file\n",
    "loaded_model = joblib.load('model_joblib.pkl')"
   ]
  },
  {
   "cell_type": "code",
   "execution_count": 27,
   "id": "738fa773",
   "metadata": {},
   "outputs": [
    {
     "data": {
      "text/plain": [
       "array([587979.45205479])"
      ]
     },
     "execution_count": 27,
     "metadata": {},
     "output_type": "execute_result"
    }
   ],
   "source": [
    "# Making predictions using the loaded model\n",
    "predictions = loaded_model.predict([[3000]])\n",
    "predictions"
   ]
  },
  {
   "cell_type": "markdown",
   "id": "9d5c74ae",
   "metadata": {},
   "source": [
    "2. Using pickle:\n",
    "pickle is a more general-purpose serialization library and can be used for saving Python objects, but it's typically slower for large machine learning objects.\n"
   ]
  },
  {
   "cell_type": "code",
   "execution_count": 12,
   "id": "68b2cb41",
   "metadata": {},
   "outputs": [],
   "source": [
    "import pickle"
   ]
  },
  {
   "cell_type": "code",
   "execution_count": 13,
   "id": "61ed1d2f",
   "metadata": {},
   "outputs": [],
   "source": [
    "# Saving the model to a file\n",
    "with open('model_pickle.pkl', 'wb') as f:\n",
    "    pickle.dump(model, f)\n",
    "    "
   ]
  },
  {
   "cell_type": "code",
   "execution_count": 14,
   "id": "89d78566",
   "metadata": {},
   "outputs": [],
   "source": [
    "\n",
    "# Loading the model from the file\n",
    "with open('model_pickle.pkl', 'rb') as f:\n",
    "    loaded_model = pickle.load(f)\n",
    "\n"
   ]
  },
  {
   "cell_type": "code",
   "execution_count": 30,
   "id": "c4eeb7d1",
   "metadata": {},
   "outputs": [
    {
     "data": {
      "text/plain": [
       "array([642294.52054795])"
      ]
     },
     "execution_count": 30,
     "metadata": {},
     "output_type": "execute_result"
    }
   ],
   "source": [
    "# Making predictions using the loaded model\n",
    "predictions = loaded_model.predict([[3400]])\n",
    "predictions "
   ]
  },
  {
   "cell_type": "code",
   "execution_count": null,
   "id": "9d4b7210",
   "metadata": {},
   "outputs": [],
   "source": []
  }
 ],
 "metadata": {
  "kernelspec": {
   "display_name": "Python 3 (ipykernel)",
   "language": "python",
   "name": "python3"
  },
  "language_info": {
   "codemirror_mode": {
    "name": "ipython",
    "version": 3
   },
   "file_extension": ".py",
   "mimetype": "text/x-python",
   "name": "python",
   "nbconvert_exporter": "python",
   "pygments_lexer": "ipython3",
   "version": "3.9.13"
  }
 },
 "nbformat": 4,
 "nbformat_minor": 5
}
