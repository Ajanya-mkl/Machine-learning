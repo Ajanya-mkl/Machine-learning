{
 "cells": [
  {
   "cell_type": "code",
   "execution_count": null,
   "id": "6cfefbf1",
   "metadata": {},
   "outputs": [],
   "source": [
    "import pandas as pd\n",
    "from sklearn.ensemble import RandomForestRegressor\n",
    "from sklearn.preprocessing import LabelEncoder,StandardScaler\n",
    "from sklearn.model_selection import train_test_split\n",
    "from word2number import w2n\n"
   ]
  },
  {
   "cell_type": "code",
   "execution_count": null,
   "id": "664a72aa",
   "metadata": {},
   "outputs": [],
   "source": [
    "data=pd.read_csv(\"Automobile_data.csv\")\n",
    "data\n"
   ]
  },
  {
   "cell_type": "code",
   "execution_count": null,
   "id": "3cee2905",
   "metadata": {},
   "outputs": [],
   "source": [
    "data.drop(\"index\",axis=1)\n"
   ]
  },
  {
   "cell_type": "code",
   "execution_count": null,
   "id": "37806d2f",
   "metadata": {},
   "outputs": [],
   "source": [
    "data.isna().sum()\n"
   ]
  },
  {
   "cell_type": "code",
   "execution_count": null,
   "id": "dada6b05",
   "metadata": {},
   "outputs": [],
   "source": [
    "data.dtypes"
   ]
  },
  {
   "cell_type": "code",
   "execution_count": null,
   "id": "0efd5232",
   "metadata": {},
   "outputs": [],
   "source": [
    "data[\"body-style\"].unique"
   ]
  },
  {
   "cell_type": "code",
   "execution_count": null,
   "id": "3c3b39a1",
   "metadata": {},
   "outputs": [],
   "source": [
    "data.price=data[\"price\"].fillna(data[\"price\"].mean())\n"
   ]
  },
  {
   "cell_type": "code",
   "execution_count": null,
   "id": "de2013e3",
   "metadata": {},
   "outputs": [],
   "source": [
    "data.isna().sum()\n"
   ]
  },
  {
   "cell_type": "code",
   "execution_count": null,
   "id": "ea61354e",
   "metadata": {},
   "outputs": [],
   "source": [
    "data[\"num-of-cylinders\"]=data[\"num-of-cylinders\"].apply(w2n.word_to_num)\n"
   ]
  },
  {
   "cell_type": "code",
   "execution_count": null,
   "id": "83955397",
   "metadata": {},
   "outputs": [],
   "source": [
    "data"
   ]
  },
  {
   "cell_type": "code",
   "execution_count": null,
   "id": "cffc19b8",
   "metadata": {},
   "outputs": [],
   "source": [
    "\n",
    "l_c=LabelEncoder()\n",
    "data[\"company\"]=l_c.fit_transform(data[\"company\"])\n",
    "l_b=LabelEncoder()\n",
    "data[\"body-style\"]=l_b.fit_transform(data[\"body-style\"])\n",
    "l_e=LabelEncoder()\n",
    "data[\"engine-type\"]=l_e.fit_transform(data[\"engine-type\"])\n"
   ]
  },
  {
   "cell_type": "code",
   "execution_count": null,
   "id": "c891d60f",
   "metadata": {},
   "outputs": [],
   "source": [
    "x=data.drop(\"price\",axis=1)\n",
    "y=data.price\n"
   ]
  },
  {
   "cell_type": "code",
   "execution_count": null,
   "id": "689c8f2c",
   "metadata": {},
   "outputs": [],
   "source": [
    "x_train,x_test,y_train,y_test=train_test_split(x,y,test_size=0.25,random_state=29)\n"
   ]
  },
  {
   "cell_type": "code",
   "execution_count": null,
   "id": "f7109c4c",
   "metadata": {},
   "outputs": [],
   "source": [
    "scaler=StandardScaler()\n",
    "x_train=scaler.fit_transform(x_train)\n",
    "x_test=scaler.transform(x_test)\n"
   ]
  },
  {
   "cell_type": "code",
   "execution_count": null,
   "id": "f2d481e5",
   "metadata": {},
   "outputs": [],
   "source": [
    "model=RandomForestRegressor(n_estimators=57,random_state=34)\n",
    "model.fit(x_train,y_train)\n",
    "model.score(x_test,y_test)\n"
   ]
  },
  {
   "cell_type": "code",
   "execution_count": null,
   "id": "f6996fea",
   "metadata": {},
   "outputs": [],
   "source": []
  },
  {
   "cell_type": "code",
   "execution_count": null,
   "id": "e70dfd6e",
   "metadata": {},
   "outputs": [],
   "source": []
  },
  {
   "cell_type": "code",
   "execution_count": null,
   "id": "834f6090",
   "metadata": {},
   "outputs": [],
   "source": []
  }
 ],
 "metadata": {
  "kernelspec": {
   "display_name": "Python 3 (ipykernel)",
   "language": "python",
   "name": "python3"
  },
  "language_info": {
   "codemirror_mode": {
    "name": "ipython",
    "version": 3
   },
   "file_extension": ".py",
   "mimetype": "text/x-python",
   "name": "python",
   "nbconvert_exporter": "python",
   "pygments_lexer": "ipython3",
   "version": "3.9.13"
  }
 },
 "nbformat": 4,
 "nbformat_minor": 5
}
